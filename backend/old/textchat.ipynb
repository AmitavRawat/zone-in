{
 "cells": [
  {
   "cell_type": "code",
   "execution_count": null,
   "id": "d715576b",
   "metadata": {},
   "outputs": [],
   "source": [
    "from langchain.prompts import ChatPromptTemplate\n",
    "from langchain.chains import LLMChain, SimpleSequentialChain\n",
    "from langchain.chat_models import ChatOpenAI\n",
    "\n",
    "openai_api_key =  \"INSERT OPEN AI API KEY\"\n",
    "\n",
    "template = \"\"\"You are an assistant for question-answering tasks.\n",
    "Use the following pieces of retrieved context to answer the question.  \n",
    "Assume every user lives in an R1 area unless told otherwise.\n",
    "Cite specific sections of information if possible.\n",
    "\n",
    "Question: {question} \n",
    "Context: {context} \n",
    "Answer:\n",
    "\"\"\"\n",
    "prompt = ChatPromptTemplate.from_template(template)\n",
    "model = ChatOpenAI(temperature=0, model_name='gpt-4', openai_api_key=openai_api_key)\n",
    "llm_chain = LLMChain(llm=model, prompt=prompt)\n",
    "\n",
    "\n",
    "question = \"\"\n",
    "\n",
    "context = \n",
    "output = best_fields_chain.run({\n",
    "        'question': question,\n",
    "        'context': \n",
    "})"
   ]
  }
 ],
 "metadata": {
  "kernelspec": {
   "display_name": "Python 3",
   "language": "python",
   "name": "python3"
  },
  "language_info": {
   "codemirror_mode": {
    "name": "ipython",
    "version": 3
   },
   "file_extension": ".py",
   "mimetype": "text/x-python",
   "name": "python",
   "nbconvert_exporter": "python",
   "pygments_lexer": "ipython3",
   "version": "3.12.2"
  },
  "vscode": {
   "interpreter": {
    "hash": "949777d72b0d2535278d3dc13498b2535136f6dfe0678499012e853ee9abcab1"
   }
  }
 },
 "nbformat": 4,
 "nbformat_minor": 5
}
